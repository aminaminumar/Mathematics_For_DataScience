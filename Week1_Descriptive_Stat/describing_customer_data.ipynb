{
 "cells": [
  {
   "cell_type": "markdown",
   "metadata": {},
   "source": [
    "- make necessary imports\n",
    "- Load Customer_data"
   ]
  },
  {
   "cell_type": "code",
   "execution_count": 40,
   "metadata": {},
   "outputs": [
    {
     "data": {
      "application/vnd.microsoft.datawrangler.viewer.v0+json": {
       "columns": [
        {
         "name": "index",
         "rawType": "int64",
         "type": "integer"
        },
        {
         "name": "CustomerID",
         "rawType": "int64",
         "type": "integer"
        },
        {
         "name": "Age",
         "rawType": "float64",
         "type": "float"
        },
        {
         "name": "Annual_Income_k$",
         "rawType": "float64",
         "type": "float"
        },
        {
         "name": "Spending_Score",
         "rawType": "float64",
         "type": "float"
        },
        {
         "name": "Gender",
         "rawType": "object",
         "type": "string"
        },
        {
         "name": "Membership_Level",
         "rawType": "object",
         "type": "string"
        },
        {
         "name": "Online_Purchases",
         "rawType": "int64",
         "type": "integer"
        },
        {
         "name": "Store_Visits",
         "rawType": "int64",
         "type": "integer"
        },
        {
         "name": "Customer_Satisfaction",
         "rawType": "int64",
         "type": "integer"
        }
       ],
       "ref": "92416cb3-5da4-473e-a17a-420b20599fa5",
       "rows": [
        [
         "0",
         "1001",
         "35.85840396726503",
         "43.87103117660497",
         "87.0",
         "Male",
         "Silver",
         "10",
         "5",
         "5"
        ],
        [
         "1",
         "1002",
         "29.19971997511561",
         null,
         "90.0",
         "Male",
         "Gold",
         "9",
         "10",
         "5"
        ],
        [
         "2",
         "1003",
         "43.29962173071373",
         "99.49386655394775",
         "29.0",
         "Male",
         "Platinum",
         "13",
         "4",
         "5"
        ],
        [
         "3",
         "1004",
         "29.471649653788205",
         "32.915917906398505",
         "33.0",
         "Female",
         "Silver",
         "12",
         "5",
         "1"
        ],
        [
         "4",
         "1005",
         "41.55610398252892",
         null,
         "60.0",
         "Female",
         "Gold",
         "15",
         "7",
         "5"
        ]
       ],
       "shape": {
        "columns": 9,
        "rows": 5
       }
      },
      "text/html": [
       "<div>\n",
       "<style scoped>\n",
       "    .dataframe tbody tr th:only-of-type {\n",
       "        vertical-align: middle;\n",
       "    }\n",
       "\n",
       "    .dataframe tbody tr th {\n",
       "        vertical-align: top;\n",
       "    }\n",
       "\n",
       "    .dataframe thead th {\n",
       "        text-align: right;\n",
       "    }\n",
       "</style>\n",
       "<table border=\"1\" class=\"dataframe\">\n",
       "  <thead>\n",
       "    <tr style=\"text-align: right;\">\n",
       "      <th></th>\n",
       "      <th>CustomerID</th>\n",
       "      <th>Age</th>\n",
       "      <th>Annual_Income_k$</th>\n",
       "      <th>Spending_Score</th>\n",
       "      <th>Gender</th>\n",
       "      <th>Membership_Level</th>\n",
       "      <th>Online_Purchases</th>\n",
       "      <th>Store_Visits</th>\n",
       "      <th>Customer_Satisfaction</th>\n",
       "    </tr>\n",
       "  </thead>\n",
       "  <tbody>\n",
       "    <tr>\n",
       "      <th>0</th>\n",
       "      <td>1001</td>\n",
       "      <td>35.858404</td>\n",
       "      <td>43.871031</td>\n",
       "      <td>87.0</td>\n",
       "      <td>Male</td>\n",
       "      <td>Silver</td>\n",
       "      <td>10</td>\n",
       "      <td>5</td>\n",
       "      <td>5</td>\n",
       "    </tr>\n",
       "    <tr>\n",
       "      <th>1</th>\n",
       "      <td>1002</td>\n",
       "      <td>29.199720</td>\n",
       "      <td>NaN</td>\n",
       "      <td>90.0</td>\n",
       "      <td>Male</td>\n",
       "      <td>Gold</td>\n",
       "      <td>9</td>\n",
       "      <td>10</td>\n",
       "      <td>5</td>\n",
       "    </tr>\n",
       "    <tr>\n",
       "      <th>2</th>\n",
       "      <td>1003</td>\n",
       "      <td>43.299622</td>\n",
       "      <td>99.493867</td>\n",
       "      <td>29.0</td>\n",
       "      <td>Male</td>\n",
       "      <td>Platinum</td>\n",
       "      <td>13</td>\n",
       "      <td>4</td>\n",
       "      <td>5</td>\n",
       "    </tr>\n",
       "    <tr>\n",
       "      <th>3</th>\n",
       "      <td>1004</td>\n",
       "      <td>29.471650</td>\n",
       "      <td>32.915918</td>\n",
       "      <td>33.0</td>\n",
       "      <td>Female</td>\n",
       "      <td>Silver</td>\n",
       "      <td>12</td>\n",
       "      <td>5</td>\n",
       "      <td>1</td>\n",
       "    </tr>\n",
       "    <tr>\n",
       "      <th>4</th>\n",
       "      <td>1005</td>\n",
       "      <td>41.556104</td>\n",
       "      <td>NaN</td>\n",
       "      <td>60.0</td>\n",
       "      <td>Female</td>\n",
       "      <td>Gold</td>\n",
       "      <td>15</td>\n",
       "      <td>7</td>\n",
       "      <td>5</td>\n",
       "    </tr>\n",
       "  </tbody>\n",
       "</table>\n",
       "</div>"
      ],
      "text/plain": [
       "   CustomerID        Age  Annual_Income_k$  Spending_Score  Gender  \\\n",
       "0        1001  35.858404         43.871031            87.0    Male   \n",
       "1        1002  29.199720               NaN            90.0    Male   \n",
       "2        1003  43.299622         99.493867            29.0    Male   \n",
       "3        1004  29.471650         32.915918            33.0  Female   \n",
       "4        1005  41.556104               NaN            60.0  Female   \n",
       "\n",
       "  Membership_Level  Online_Purchases  Store_Visits  Customer_Satisfaction  \n",
       "0           Silver                10             5                      5  \n",
       "1             Gold                 9            10                      5  \n",
       "2         Platinum                13             4                      5  \n",
       "3           Silver                12             5                      1  \n",
       "4             Gold                15             7                      5  "
      ]
     },
     "execution_count": 40,
     "metadata": {},
     "output_type": "execute_result"
    }
   ],
   "source": [
    "import pandas as pd\n",
    "import numpy as np\n",
    "import matplotlib.pyplot as plt\n",
    "\n",
    "df = pd.read_csv('customer_data.csv')\n",
    "df.head()"
   ]
  },
  {
   "cell_type": "markdown",
   "metadata": {},
   "source": [
    "Perfrom EDA\n",
    "- drop missing values/ impute missing data\n",
    "- normalize data eg age \n",
    "- check the info(), describe()\n",
    "- visualize data:\n",
    "- 1. histogram to check male to female spending by using groupby\n",
    "- 2. membership level by number of purchase "
   ]
  },
  {
   "cell_type": "code",
   "execution_count": 33,
   "metadata": {},
   "outputs": [
    {
     "name": "stdout",
     "output_type": "stream",
     "text": [
      "<class 'pandas.core.frame.DataFrame'>\n",
      "RangeIndex: 150 entries, 0 to 149\n",
      "Data columns (total 9 columns):\n",
      " #   Column                 Non-Null Count  Dtype  \n",
      "---  ------                 --------------  -----  \n",
      " 0   CustomerID             150 non-null    int64  \n",
      " 1   Age                    145 non-null    float64\n",
      " 2   Annual_Income_k$       145 non-null    float64\n",
      " 3   Spending_Score         145 non-null    float64\n",
      " 4   Gender                 150 non-null    object \n",
      " 5   Membership_Level       150 non-null    object \n",
      " 6   Online_Purchases       150 non-null    int64  \n",
      " 7   Store_Visits           150 non-null    int64  \n",
      " 8   Customer_Satisfaction  150 non-null    int64  \n",
      "dtypes: float64(3), int64(4), object(2)\n",
      "memory usage: 10.7+ KB\n"
     ]
    }
   ],
   "source": [
    "df.info()"
   ]
  },
  {
   "cell_type": "code",
   "execution_count": 34,
   "metadata": {},
   "outputs": [
    {
     "data": {
      "application/vnd.microsoft.datawrangler.viewer.v0+json": {
       "columns": [
        {
         "name": "index",
         "rawType": "object",
         "type": "string"
        },
        {
         "name": "CustomerID",
         "rawType": "float64",
         "type": "float"
        },
        {
         "name": "Age",
         "rawType": "float64",
         "type": "float"
        },
        {
         "name": "Annual_Income_k$",
         "rawType": "float64",
         "type": "float"
        },
        {
         "name": "Spending_Score",
         "rawType": "float64",
         "type": "float"
        },
        {
         "name": "Online_Purchases",
         "rawType": "float64",
         "type": "float"
        },
        {
         "name": "Store_Visits",
         "rawType": "float64",
         "type": "float"
        },
        {
         "name": "Customer_Satisfaction",
         "rawType": "float64",
         "type": "float"
        }
       ],
       "ref": "3e2359bd-5f4c-4309-9f1d-bd390cfde879",
       "rows": [
        [
         "count",
         "150.0",
         "145.0",
         "145.0",
         "145.0",
         "150.0",
         "150.0",
         "150.0"
        ],
        [
         "mean",
         "1075.5",
         "35.01725174942482",
         "62.41000898380008",
         "47.93103448275862",
         "10.053333333333333",
         "5.033333333333333",
         "2.966666666666667"
        ],
        [
         "std",
         "43.445367992456916",
         "10.9859214643098",
         "15.574816269301156",
         "30.213742084157158",
         "3.0888121707864027",
         "2.389621482105585",
         "1.4114425324367141"
        ],
        [
         "min",
         "1001.0",
         "9.825668976024708",
         "22.14768794688184",
         "2.0",
         "4.0",
         "0.0",
         "1.0"
        ],
        [
         "25%",
         "1038.25",
         "27.613691879739307",
         "50.79304684735685",
         "21.0",
         "8.0",
         "3.0",
         "2.0"
        ],
        [
         "50%",
         "1075.5",
         "35.06803098392771",
         "62.844421849581785",
         "46.0",
         "10.0",
         "5.0",
         "3.0"
        ],
        [
         "75%",
         "1112.75",
         "43.10703655349994",
         "72.73149753909635",
         "75.0",
         "12.0",
         "6.0",
         "4.0"
        ],
        [
         "max",
         "1150.0",
         "65.87155150198406",
         "108.8197093973119",
         "100.0",
         "21.0",
         "11.0",
         "5.0"
        ]
       ],
       "shape": {
        "columns": 7,
        "rows": 8
       }
      },
      "text/html": [
       "<div>\n",
       "<style scoped>\n",
       "    .dataframe tbody tr th:only-of-type {\n",
       "        vertical-align: middle;\n",
       "    }\n",
       "\n",
       "    .dataframe tbody tr th {\n",
       "        vertical-align: top;\n",
       "    }\n",
       "\n",
       "    .dataframe thead th {\n",
       "        text-align: right;\n",
       "    }\n",
       "</style>\n",
       "<table border=\"1\" class=\"dataframe\">\n",
       "  <thead>\n",
       "    <tr style=\"text-align: right;\">\n",
       "      <th></th>\n",
       "      <th>CustomerID</th>\n",
       "      <th>Age</th>\n",
       "      <th>Annual_Income_k$</th>\n",
       "      <th>Spending_Score</th>\n",
       "      <th>Online_Purchases</th>\n",
       "      <th>Store_Visits</th>\n",
       "      <th>Customer_Satisfaction</th>\n",
       "    </tr>\n",
       "  </thead>\n",
       "  <tbody>\n",
       "    <tr>\n",
       "      <th>count</th>\n",
       "      <td>150.000000</td>\n",
       "      <td>145.000000</td>\n",
       "      <td>145.000000</td>\n",
       "      <td>145.000000</td>\n",
       "      <td>150.000000</td>\n",
       "      <td>150.000000</td>\n",
       "      <td>150.000000</td>\n",
       "    </tr>\n",
       "    <tr>\n",
       "      <th>mean</th>\n",
       "      <td>1075.500000</td>\n",
       "      <td>35.017252</td>\n",
       "      <td>62.410009</td>\n",
       "      <td>47.931034</td>\n",
       "      <td>10.053333</td>\n",
       "      <td>5.033333</td>\n",
       "      <td>2.966667</td>\n",
       "    </tr>\n",
       "    <tr>\n",
       "      <th>std</th>\n",
       "      <td>43.445368</td>\n",
       "      <td>10.985921</td>\n",
       "      <td>15.574816</td>\n",
       "      <td>30.213742</td>\n",
       "      <td>3.088812</td>\n",
       "      <td>2.389621</td>\n",
       "      <td>1.411443</td>\n",
       "    </tr>\n",
       "    <tr>\n",
       "      <th>min</th>\n",
       "      <td>1001.000000</td>\n",
       "      <td>9.825669</td>\n",
       "      <td>22.147688</td>\n",
       "      <td>2.000000</td>\n",
       "      <td>4.000000</td>\n",
       "      <td>0.000000</td>\n",
       "      <td>1.000000</td>\n",
       "    </tr>\n",
       "    <tr>\n",
       "      <th>25%</th>\n",
       "      <td>1038.250000</td>\n",
       "      <td>27.613692</td>\n",
       "      <td>50.793047</td>\n",
       "      <td>21.000000</td>\n",
       "      <td>8.000000</td>\n",
       "      <td>3.000000</td>\n",
       "      <td>2.000000</td>\n",
       "    </tr>\n",
       "    <tr>\n",
       "      <th>50%</th>\n",
       "      <td>1075.500000</td>\n",
       "      <td>35.068031</td>\n",
       "      <td>62.844422</td>\n",
       "      <td>46.000000</td>\n",
       "      <td>10.000000</td>\n",
       "      <td>5.000000</td>\n",
       "      <td>3.000000</td>\n",
       "    </tr>\n",
       "    <tr>\n",
       "      <th>75%</th>\n",
       "      <td>1112.750000</td>\n",
       "      <td>43.107037</td>\n",
       "      <td>72.731498</td>\n",
       "      <td>75.000000</td>\n",
       "      <td>12.000000</td>\n",
       "      <td>6.000000</td>\n",
       "      <td>4.000000</td>\n",
       "    </tr>\n",
       "    <tr>\n",
       "      <th>max</th>\n",
       "      <td>1150.000000</td>\n",
       "      <td>65.871552</td>\n",
       "      <td>108.819709</td>\n",
       "      <td>100.000000</td>\n",
       "      <td>21.000000</td>\n",
       "      <td>11.000000</td>\n",
       "      <td>5.000000</td>\n",
       "    </tr>\n",
       "  </tbody>\n",
       "</table>\n",
       "</div>"
      ],
      "text/plain": [
       "        CustomerID         Age  Annual_Income_k$  Spending_Score  \\\n",
       "count   150.000000  145.000000        145.000000      145.000000   \n",
       "mean   1075.500000   35.017252         62.410009       47.931034   \n",
       "std      43.445368   10.985921         15.574816       30.213742   \n",
       "min    1001.000000    9.825669         22.147688        2.000000   \n",
       "25%    1038.250000   27.613692         50.793047       21.000000   \n",
       "50%    1075.500000   35.068031         62.844422       46.000000   \n",
       "75%    1112.750000   43.107037         72.731498       75.000000   \n",
       "max    1150.000000   65.871552        108.819709      100.000000   \n",
       "\n",
       "       Online_Purchases  Store_Visits  Customer_Satisfaction  \n",
       "count        150.000000    150.000000             150.000000  \n",
       "mean          10.053333      5.033333               2.966667  \n",
       "std            3.088812      2.389621               1.411443  \n",
       "min            4.000000      0.000000               1.000000  \n",
       "25%            8.000000      3.000000               2.000000  \n",
       "50%           10.000000      5.000000               3.000000  \n",
       "75%           12.000000      6.000000               4.000000  \n",
       "max           21.000000     11.000000               5.000000  "
      ]
     },
     "execution_count": 34,
     "metadata": {},
     "output_type": "execute_result"
    }
   ],
   "source": [
    "df.describe()"
   ]
  },
  {
   "cell_type": "code",
   "execution_count": 41,
   "metadata": {},
   "outputs": [],
   "source": [
    "df['Age'] = df['Age'].fillna(df['Age'].mean())  #fill the missing values with 22\n",
    "df['Annual_Income_k$']  = df['Annual_Income_k$'].fillna(df['Annual_Income_k$'].mean()) # fill missing values with the average\n",
    "df['Spending_Score'] = df['Spending_Score'].fillna(df['Spending_Score'].mean())"
   ]
  },
  {
   "cell_type": "code",
   "execution_count": 42,
   "metadata": {},
   "outputs": [
    {
     "data": {
      "application/vnd.microsoft.datawrangler.viewer.v0+json": {
       "columns": [
        {
         "name": "index",
         "rawType": "int64",
         "type": "integer"
        },
        {
         "name": "CustomerID",
         "rawType": "int64",
         "type": "integer"
        },
        {
         "name": "Age",
         "rawType": "float64",
         "type": "float"
        },
        {
         "name": "Annual_Income_k$",
         "rawType": "float64",
         "type": "float"
        },
        {
         "name": "Spending_Score",
         "rawType": "float64",
         "type": "float"
        },
        {
         "name": "Gender",
         "rawType": "object",
         "type": "string"
        },
        {
         "name": "Membership_Level",
         "rawType": "object",
         "type": "string"
        },
        {
         "name": "Online_Purchases",
         "rawType": "int64",
         "type": "integer"
        },
        {
         "name": "Store_Visits",
         "rawType": "int64",
         "type": "integer"
        },
        {
         "name": "Customer_Satisfaction",
         "rawType": "int64",
         "type": "integer"
        }
       ],
       "ref": "c5e79397-e899-4b03-ae0f-ec22026a53f6",
       "rows": [
        [
         "0",
         "1001",
         "35.85840396726503",
         "43.87103117660497",
         "87.0",
         "Male",
         "Silver",
         "10",
         "5",
         "5"
        ],
        [
         "1",
         "1002",
         "29.19971997511561",
         "62.41000898380008",
         "90.0",
         "Male",
         "Gold",
         "9",
         "10",
         "5"
        ],
        [
         "2",
         "1003",
         "43.29962173071373",
         "99.49386655394775",
         "29.0",
         "Male",
         "Platinum",
         "13",
         "4",
         "5"
        ],
        [
         "3",
         "1004",
         "29.471649653788205",
         "32.915917906398505",
         "33.0",
         "Female",
         "Silver",
         "12",
         "5",
         "1"
        ],
        [
         "4",
         "1005",
         "41.55610398252892",
         "62.41000898380008",
         "60.0",
         "Female",
         "Gold",
         "15",
         "7",
         "5"
        ]
       ],
       "shape": {
        "columns": 9,
        "rows": 5
       }
      },
      "text/html": [
       "<div>\n",
       "<style scoped>\n",
       "    .dataframe tbody tr th:only-of-type {\n",
       "        vertical-align: middle;\n",
       "    }\n",
       "\n",
       "    .dataframe tbody tr th {\n",
       "        vertical-align: top;\n",
       "    }\n",
       "\n",
       "    .dataframe thead th {\n",
       "        text-align: right;\n",
       "    }\n",
       "</style>\n",
       "<table border=\"1\" class=\"dataframe\">\n",
       "  <thead>\n",
       "    <tr style=\"text-align: right;\">\n",
       "      <th></th>\n",
       "      <th>CustomerID</th>\n",
       "      <th>Age</th>\n",
       "      <th>Annual_Income_k$</th>\n",
       "      <th>Spending_Score</th>\n",
       "      <th>Gender</th>\n",
       "      <th>Membership_Level</th>\n",
       "      <th>Online_Purchases</th>\n",
       "      <th>Store_Visits</th>\n",
       "      <th>Customer_Satisfaction</th>\n",
       "    </tr>\n",
       "  </thead>\n",
       "  <tbody>\n",
       "    <tr>\n",
       "      <th>0</th>\n",
       "      <td>1001</td>\n",
       "      <td>35.858404</td>\n",
       "      <td>43.871031</td>\n",
       "      <td>87.0</td>\n",
       "      <td>Male</td>\n",
       "      <td>Silver</td>\n",
       "      <td>10</td>\n",
       "      <td>5</td>\n",
       "      <td>5</td>\n",
       "    </tr>\n",
       "    <tr>\n",
       "      <th>1</th>\n",
       "      <td>1002</td>\n",
       "      <td>29.199720</td>\n",
       "      <td>62.410009</td>\n",
       "      <td>90.0</td>\n",
       "      <td>Male</td>\n",
       "      <td>Gold</td>\n",
       "      <td>9</td>\n",
       "      <td>10</td>\n",
       "      <td>5</td>\n",
       "    </tr>\n",
       "    <tr>\n",
       "      <th>2</th>\n",
       "      <td>1003</td>\n",
       "      <td>43.299622</td>\n",
       "      <td>99.493867</td>\n",
       "      <td>29.0</td>\n",
       "      <td>Male</td>\n",
       "      <td>Platinum</td>\n",
       "      <td>13</td>\n",
       "      <td>4</td>\n",
       "      <td>5</td>\n",
       "    </tr>\n",
       "    <tr>\n",
       "      <th>3</th>\n",
       "      <td>1004</td>\n",
       "      <td>29.471650</td>\n",
       "      <td>32.915918</td>\n",
       "      <td>33.0</td>\n",
       "      <td>Female</td>\n",
       "      <td>Silver</td>\n",
       "      <td>12</td>\n",
       "      <td>5</td>\n",
       "      <td>1</td>\n",
       "    </tr>\n",
       "    <tr>\n",
       "      <th>4</th>\n",
       "      <td>1005</td>\n",
       "      <td>41.556104</td>\n",
       "      <td>62.410009</td>\n",
       "      <td>60.0</td>\n",
       "      <td>Female</td>\n",
       "      <td>Gold</td>\n",
       "      <td>15</td>\n",
       "      <td>7</td>\n",
       "      <td>5</td>\n",
       "    </tr>\n",
       "  </tbody>\n",
       "</table>\n",
       "</div>"
      ],
      "text/plain": [
       "   CustomerID        Age  Annual_Income_k$  Spending_Score  Gender  \\\n",
       "0        1001  35.858404         43.871031            87.0    Male   \n",
       "1        1002  29.199720         62.410009            90.0    Male   \n",
       "2        1003  43.299622         99.493867            29.0    Male   \n",
       "3        1004  29.471650         32.915918            33.0  Female   \n",
       "4        1005  41.556104         62.410009            60.0  Female   \n",
       "\n",
       "  Membership_Level  Online_Purchases  Store_Visits  Customer_Satisfaction  \n",
       "0           Silver                10             5                      5  \n",
       "1             Gold                 9            10                      5  \n",
       "2         Platinum                13             4                      5  \n",
       "3           Silver                12             5                      1  \n",
       "4             Gold                15             7                      5  "
      ]
     },
     "execution_count": 42,
     "metadata": {},
     "output_type": "execute_result"
    }
   ],
   "source": [
    "df.count()\n",
    "df.head()"
   ]
  },
  {
   "cell_type": "code",
   "execution_count": 43,
   "metadata": {},
   "outputs": [
    {
     "data": {
      "application/vnd.microsoft.datawrangler.viewer.v0+json": {
       "columns": [
        {
         "name": "index",
         "rawType": "int64",
         "type": "integer"
        },
        {
         "name": "Age",
         "rawType": "int64",
         "type": "integer"
        }
       ],
       "ref": "289039d0-e467-40af-9f8a-4d0bbe98db57",
       "rows": [
        [
         "0",
         "35"
        ],
        [
         "1",
         "29"
        ],
        [
         "2",
         "43"
        ],
        [
         "3",
         "29"
        ],
        [
         "4",
         "41"
        ]
       ],
       "shape": {
        "columns": 1,
        "rows": 5
       }
      },
      "text/plain": [
       "0    35\n",
       "1    29\n",
       "2    43\n",
       "3    29\n",
       "4    41\n",
       "Name: Age, dtype: int64"
      ]
     },
     "execution_count": 43,
     "metadata": {},
     "output_type": "execute_result"
    }
   ],
   "source": [
    "df['Age'] = df['Age'].astype('int')\n",
    "df['Age'].head()"
   ]
  },
  {
   "cell_type": "code",
   "execution_count": 45,
   "metadata": {},
   "outputs": [
    {
     "data": {
      "image/png": "[encoded data removed]",
      "text/plain": [
       "<Figure size 640x480 with 1 Axes>"
      ]
     },
     "metadata": {},
     "output_type": "display_data"
    }
   ],
   "source": [
    "df.groupby('Gender')['Spending_Score'].hist()\n",
    "plt.show()\n"
   ]
  }
 ],
 "metadata": {
  "kernelspec": {
   "display_name": "Python 3",
   "language": "python",
   "name": "python3"
  },
  "language_info": {
   "codemirror_mode": {
    "name": "ipython",
    "version": 3
   },
   "file_extension": ".py",
   "mimetype": "text/x-python",
   "name": "python",
   "nbconvert_exporter": "python",
   "pygments_lexer": "ipython3",
   "version": "3.12.4"
  }
 },
 "nbformat": 4,
 "nbformat_minor": 2
}
