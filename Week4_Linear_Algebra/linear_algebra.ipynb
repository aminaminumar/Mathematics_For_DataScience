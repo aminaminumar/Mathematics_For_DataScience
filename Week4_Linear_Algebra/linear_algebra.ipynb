{
 "cells": [
  {
   "cell_type": "code",
   "execution_count": 2,
   "id": "6e244219",
   "metadata": {},
   "outputs": [],
   "source": [
    "import numpy as np\n",
    "import pandas as pd"
   ]
  },
  {
   "cell_type": "markdown",
   "id": "dcc48c1b",
   "metadata": {},
   "source": [
    "- Scalar: A single number or value, that has magnitude but no direction eg(-3, 5) -- A Point\n",
    "- Vectors: An array of numbers(1D) with both magnitude and direction eg([1,2,3]) -- A Line\n",
    "- Matrix: A 2D array of numbers with rows and columns eg A table of values or ([[1,2,3], [4,5,6]]) -- A flat square or grid\n",
    "- Tensors:A generilization of scalars, vectors and matrics to any number of dimension\n",
    "- vector and matrix are usually used to represent data"
   ]
  },
  {
   "cell_type": "code",
   "execution_count": 3,
   "id": "e095c6d2",
   "metadata": {},
   "outputs": [
    {
     "name": "stdout",
     "output_type": "stream",
     "text": [
      "V1+V2 = [5 7 9]\n",
      "V2-V1 = [3 3 3]\n"
     ]
    }
   ],
   "source": [
    "#vector addition and subtraction\n",
    "v1 = np.array([1,2,3])\n",
    "v2 = np.array([4,5,6])\n",
    "\n",
    "V_add = v1 + v2\n",
    "V_subtract = v2 - v1\n",
    "\n",
    "print(f\"V1+V2 = {V_add}\\nV2-V1 = {V_subtract}\" )"
   ]
  },
  {
   "cell_type": "code",
   "execution_count": 4,
   "id": "e79ba32a",
   "metadata": {},
   "outputs": [
    {
     "name": "stdout",
     "output_type": "stream",
     "text": [
      "v1*v2 = [ 4 10 18]\n",
      "v1.v2 = 32\n"
     ]
    }
   ],
   "source": [
    "#dot product and multiplication using the previous example returns a single value\n",
    "mul = v1*v2\n",
    "dot = np.dot(v1,v2)\n",
    "\n",
    "print(f\"v1*v2 = {mul}\\nv1.v2 = {dot}\")"
   ]
  },
  {
   "cell_type": "markdown",
   "id": "2180de59",
   "metadata": {},
   "source": [
    "#### Vector norm (magnitude)\n",
    "there are bsically two types of norm:\n",
    "1. l1 norm Manhattan norm\n",
    "2. l2 norm Eucledian norm\n",
    "- **Norm is used for checking similarity between two vectors**"
   ]
  },
  {
   "cell_type": "code",
   "execution_count": 5,
   "id": "1482c086",
   "metadata": {},
   "outputs": [
    {
     "name": "stdout",
     "output_type": "stream",
     "text": [
      "Norm/ magnitude of v1 = 3.7416573867739413\n"
     ]
    }
   ],
   "source": [
    "v1_norm = np.linalg.norm(v1)\n",
    "\n",
    "print(F'Norm/ magnitude of v1 = {v1_norm}')"
   ]
  },
  {
   "cell_type": "markdown",
   "id": "24560f99",
   "metadata": {},
   "source": [
    "### Matrix Operation"
   ]
  },
  {
   "cell_type": "code",
   "execution_count": 6,
   "id": "014e3d10",
   "metadata": {},
   "outputs": [
    {
     "name": "stdout",
     "output_type": "stream",
     "text": [
      "Matix A\n",
      "[[1 2 3]\n",
      " [3 4 5]]\n",
      "Matix B\n",
      "[[7 8 9]\n",
      " [3 5 1]]\n",
      "A+B =\n",
      "[[ 8 10 12]\n",
      " [ 6  9  6]]\n",
      "A*B =\n",
      "[[ 7 16 27]\n",
      " [ 9 20  5]]\n"
     ]
    }
   ],
   "source": [
    "A = np.array([[1,2,3], [3,4,5]])\n",
    "B = np.array([[7,8,9], [3,5,1]])\n",
    "\n",
    "print(f\"Matix A\\n{A}\")\n",
    "print(f\"Matix B\\n{B}\")\n",
    "print(f\"A+B =\\n{A+B}\")\n",
    "print(f\"A*B =\\n{A*B}\")\n"
   ]
  },
  {
   "cell_type": "code",
   "execution_count": 7,
   "id": "b07c2598",
   "metadata": {},
   "outputs": [
    {
     "name": "stdout",
     "output_type": "stream",
     "text": [
      "Element wise multiplication:\n",
      "[[ 7 16]\n",
      " [ 9 20]]\n",
      "dot product:\n",
      "[[13 18]\n",
      " [33 44]]\n"
     ]
    }
   ],
   "source": [
    "#matrix multiplication element wisw and dot product\n",
    "A = np.array([[1,2], [3,4]])\n",
    "B = np.array([[7,8], [3,5]]) #(1*7)+(2*3) (1*8)+(2*5) (3*7)+(4*3)\n",
    "element_wise = A*B\n",
    "dot_product = np.dot(A,B)\n",
    "\n",
    "print(f\"Element wise multiplication:\\n{element_wise}\")\n",
    "print(f\"dot product:\\n{dot_product}\")"
   ]
  },
  {
   "cell_type": "code",
   "execution_count": 8,
   "id": "14ac2c17",
   "metadata": {},
   "outputs": [
    {
     "name": "stdout",
     "output_type": "stream",
     "text": [
      "[[1.21799275 0.61861415 0.73863966 0.74347035]\n",
      " [0.19036905 0.08435585 0.05194997 0.0688492 ]\n",
      " [0.79038623 0.37128078 0.32406004 0.36667007]]\n"
     ]
    }
   ],
   "source": [
    "M = np.random.rand(3,2)\n",
    "N = np.random.rand(2,4)\n",
    "m_dot_n = np.dot(M,N)\n",
    "print(m_dot_n)"
   ]
  },
  {
   "cell_type": "markdown",
   "id": "4b6f3745",
   "metadata": {},
   "source": [
    "### Transpose of a matrix   "
   ]
  },
  {
   "cell_type": "code",
   "execution_count": 9,
   "id": "93d988a9",
   "metadata": {},
   "outputs": [
    {
     "name": "stdout",
     "output_type": "stream",
     "text": [
      "[[1 2]\n",
      " [3 4]]\n",
      "[[1 3]\n",
      " [2 4]]\n"
     ]
    }
   ],
   "source": [
    "Transpose_A = A.T\n",
    "print(A)\n",
    "print(Transpose_A)"
   ]
  },
  {
   "cell_type": "markdown",
   "id": "ed77445e",
   "metadata": {},
   "source": [
    "### Determinant\n",
    "- using linalg.det\n",
    "- gets a scalar value"
   ]
  },
  {
   "cell_type": "code",
   "execution_count": 10,
   "id": "449cd8e2",
   "metadata": {},
   "outputs": [
    {
     "name": "stdout",
     "output_type": "stream",
     "text": [
      "-2.0000000000000004\n",
      "0.0\n"
     ]
    }
   ],
   "source": [
    "det_A = np.linalg.det(A)\n",
    "print(det_A)\n",
    "\n",
    "C = np.array([[1,2,3],[4,5,6],[7,8,9]])\n",
    "det_C = np.linalg.det(C)\n",
    "print(det_C)"
   ]
  },
  {
   "cell_type": "markdown",
   "id": "13961ab6",
   "metadata": {},
   "source": [
    "### Inverse of a matrix\n",
    "- matrix with det == 0 are singular matrix(no inverse)\n",
    "- linalg.inv\n",
    "- inverse of a matrix is important in computation when building artificial neural network\n",
    "- used in solving a system of linear equation"
   ]
  },
  {
   "cell_type": "code",
   "execution_count": 11,
   "id": "8ce50a0b",
   "metadata": {},
   "outputs": [
    {
     "name": "stdout",
     "output_type": "stream",
     "text": [
      "[[-2.   1. ]\n",
      " [ 1.5 -0.5]]\n"
     ]
    }
   ],
   "source": [
    "try:\n",
    "    inv_A = np.linalg.inv(A)\n",
    "except np.linalg.LinAlgError:\n",
    "    #singular metrix with det == 0\n",
    "    print('Matrix A is a singular and does not have an inverse')\n",
    "\n",
    "print(inv_A)"
   ]
  },
  {
   "cell_type": "markdown",
   "id": "589a97db",
   "metadata": {},
   "source": [
    "### EigenValue Decomposition: taking a matrix and decomposing it into eigen values and eigenvectorss"
   ]
  },
  {
   "cell_type": "code",
   "execution_count": 15,
   "id": "2c44b6cc",
   "metadata": {},
   "outputs": [
    {
     "name": "stdout",
     "output_type": "stream",
     "text": [
      "eigen value:\n",
      "[-0.37228132  5.37228132]\n",
      "eigen vector:\n",
      "[[-0.82456484 -0.41597356]\n",
      " [ 0.56576746 -0.90937671]]\n"
     ]
    }
   ],
   "source": [
    "eigenvalue, eigenvectors = np.linalg.eig(A)\n",
    "print(f\"eigen value:\\n{eigenvalue}\\neigen vector:\\n{eigenvectors}\")"
   ]
  },
  {
   "cell_type": "markdown",
   "id": "8b56a4d9",
   "metadata": {},
   "source": [
    "solving a system of linear equation"
   ]
  },
  {
   "cell_type": "code",
   "execution_count": null,
   "id": "edbe480e",
   "metadata": {},
   "outputs": [],
   "source": []
  }
 ],
 "metadata": {
  "kernelspec": {
   "display_name": "Python 3",
   "language": "python",
   "name": "python3"
  },
  "language_info": {
   "codemirror_mode": {
    "name": "ipython",
    "version": 3
   },
   "file_extension": ".py",
   "mimetype": "text/x-python",
   "name": "python",
   "nbconvert_exporter": "python",
   "pygments_lexer": "ipython3",
   "version": "3.12.4"
  }
 },
 "nbformat": 4,
 "nbformat_minor": 5
}
