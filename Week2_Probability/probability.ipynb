{
 "cells": [
  {
   "cell_type": "markdown",
   "id": "cc59ecfb",
   "metadata": {},
   "source": [
    "### Function for calculating uniform probability\n",
    "- n = number of all possible outcomes in a sample space\n",
    "- m = outcomes uniformly selected at random from 1 to n"
   ]
  },
  {
   "cell_type": "code",
   "execution_count": 2,
   "id": "b2127748",
   "metadata": {},
   "outputs": [],
   "source": [
    "import numpy as np"
   ]
  },
  {
   "cell_type": "code",
   "execution_count": 8,
   "id": "e8b25c46",
   "metadata": {},
   "outputs": [],
   "source": [
    "def Uniform(n, m):\n",
    "    return np.random.randint(1, n+1, size = m)"
   ]
  },
  {
   "cell_type": "markdown",
   "id": "24e7296a",
   "metadata": {},
   "source": [
    "### Tossing a coin\n",
    "- head = 1\n",
    "- tail = 2\n",
    "  "
   ]
  },
  {
   "cell_type": "code",
   "execution_count": null,
   "id": "e79df71b",
   "metadata": {},
   "outputs": [
    {
     "name": "stdout",
     "output_type": "stream",
     "text": [
      "[1]\n",
      "[2 1 1 1 2 2 2 1 2 1]\n",
      "[1 2 1 2 2 2 1 1 1 2 1 1 1 1 2 2 2 2 1 1 2 2 1 2 2 1 2 2 1 2 1 1 2 1 1 1 1\n",
      " 1 2 2 1 2 2 2 1 1 1 2 2 1 2 1 1 1 2 2 1 2 1 2 2 2 1 2 2 1 2 1 1 2 2 1 2 1\n",
      " 2 2 1 1 2 2 1 2 2 2 2 2 1 1 2 2 2 1 1 2 1 1 2 1 1 1]\n"
     ]
    }
   ],
   "source": [
    "print(Uniform(2, 1))  #Toss a coin 1 times \n",
    "print(Uniform(2, 10))  #Toss a coin 10 times\n",
    "print(Uniform(2, 100))  #Toss a coin 100 times"
   ]
  },
  {
   "cell_type": "markdown",
   "id": "670bf74a",
   "metadata": {},
   "source": [
    "### Rolling a Die with six sides"
   ]
  },
  {
   "cell_type": "code",
   "execution_count": 12,
   "id": "c10181d0",
   "metadata": {},
   "outputs": [
    {
     "name": "stdout",
     "output_type": "stream",
     "text": [
      "[5]\n",
      "[6 2 1 3 1 3 1 4 2 3]\n",
      "[5 5 3 5 1 5 5 1 1 2 3 4 3 2 4 5 5 4 3 2 5 3 3 5 1 2 2 3 4 1 6 2 5 2 5 3 4\n",
      " 6 1 1 6 4 2 4 5 3 3 5 3 4 4 6 6 3 5 4 6 2 5 1 6 3 3 6 4 5 3 4 6 2 2 4 5 1\n",
      " 6 3 5 5 1 2 4 6 5 1 2 6 5 4 6 2 2 4 4 2 1 2 1 5 5 1]\n"
     ]
    }
   ],
   "source": [
    "print(Uniform(6, 1))  #Rolling 1 times \n",
    "print(Uniform(6, 10))  #Rolling 10 times\n",
    "print(Uniform(6, 100))  #Rolling 100 times"
   ]
  },
  {
   "cell_type": "markdown",
   "id": "79db21d9",
   "metadata": {},
   "source": [
    "## Monte carlo estimation\n",
    "Repeatedly simulating an experiment independently gives better result. \n",
    "using two steps\n",
    "1. Generate a large number of tosses and \n",
    "2. count the number of heads or tails. \n",
    "you will notice that the probability is close to 0.5\n",
    "A good result of $P(A)$ is:\n",
    "$$P(A) \\approx \\frac{N_A}{N}$$\n",
    "i.e the more you perform the simulation the accurate the result"
   ]
  },
  {
   "cell_type": "code",
   "execution_count": null,
   "id": "3306d39d",
   "metadata": {},
   "outputs": [
    {
     "name": "stdout",
     "output_type": "stream",
     "text": [
      "0.4984\n"
     ]
    }
   ],
   "source": [
    "no_heads = 0 #storing probability of heads\n",
    "\n",
    "for i in range(10000):\n",
    "    if Uniform(2, 1) == 1:\n",
    "        no_heads += 1\n",
    "print(no_heads/10000) #prob estimate by monte carlo "
   ]
  },
  {
   "cell_type": "markdown",
   "id": "92c465f6",
   "metadata": {},
   "source": [
    "## Rolling a die with Monte carlo rule"
   ]
  },
  {
   "cell_type": "code",
   "execution_count": null,
   "id": "d838f84b",
   "metadata": {},
   "outputs": [
    {
     "name": "stdout",
     "output_type": "stream",
     "text": [
      "0.169\n"
     ]
    }
   ],
   "source": [
    "number = 0 #variable for storing number of event occurence\n",
    "for i in range(1000):\n",
    "    if Uniform(6, 1) == 1:\n",
    "        number += 1\n",
    "print(number/1000) #monte caelo prob"
   ]
  }
 ],
 "metadata": {
  "kernelspec": {
   "display_name": "Python 3",
   "language": "python",
   "name": "python3"
  },
  "language_info": {
   "codemirror_mode": {
    "name": "ipython",
    "version": 3
   },
   "file_extension": ".py",
   "mimetype": "text/x-python",
   "name": "python",
   "nbconvert_exporter": "python",
   "pygments_lexer": "ipython3",
   "version": "3.12.4"
  }
 },
 "nbformat": 4,
 "nbformat_minor": 5
}
